{
  "nbformat": 4,
  "nbformat_minor": 0,
  "metadata": {
    "colab": {
      "provenance": [],
      "authorship_tag": "ABX9TyNsimELc8z6SvjOXBoUVdLQ",
      "include_colab_link": true
    },
    "kernelspec": {
      "name": "python3",
      "display_name": "Python 3"
    },
    "language_info": {
      "name": "python"
    }
  },
  "cells": [
    {
      "cell_type": "markdown",
      "metadata": {
        "id": "view-in-github",
        "colab_type": "text"
      },
      "source": [
        "<a href=\"https://colab.research.google.com/github/Diego9828/2025_UTEC_PROGRAMACION_101/blob/main/EXAMEN_2_PROGRAMACION_101.ipynb\" target=\"_parent\"><img src=\"https://colab.research.google.com/assets/colab-badge.svg\" alt=\"Open In Colab\"/></a>"
      ]
    },
    {
      "cell_type": "markdown",
      "source": [
        " 1. Catálogo de contenido (Listas y tuplas)\n",
        "\n"
      ],
      "metadata": {
        "id": "doUwO5Y6u_FK"
      }
    },
    {
      "cell_type": "code",
      "execution_count": 1,
      "metadata": {
        "colab": {
          "base_uri": "https://localhost:8080/"
        },
        "id": "kpfrnCQbuei3",
        "outputId": "f0f0a3a2-a8d5-47d8-8db5-4247cbcb0509"
      },
      "outputs": [
        {
          "output_type": "stream",
          "name": "stdout",
          "text": [
            "['AI Rebellion', 'Breaking Python', 'Data Science 101', 'Machine Love', 'Neural Networks']\n"
          ]
        }
      ],
      "source": [
        "catalogo_popular = (\"Breaking Python\", \"Data Science 101\", \"Machine Love\", \"Debug Wars\")\n",
        "\n",
        "# Convertir tupla a lista\n",
        "catalogo_list = list(catalogo_popular)\n",
        "\n",
        "# Agregar nueva serie\n",
        "catalogo_list.append(\"Neural Networks\")\n",
        "\n",
        "# Reemplazar \"Debug Wars\" por \"AI Rebellion\"\n",
        "indice = catalogo_list.index(\"Debug Wars\")\n",
        "catalogo_list[indice] = \"AI Rebellion\"\n",
        "\n",
        "# Ordenar alfabéticamente\n",
        "catalogo_list.sort()\n",
        "\n",
        "print(catalogo_list)"
      ]
    },
    {
      "cell_type": "markdown",
      "source": [
        "2. Filtrado de géneros (Slicing)"
      ],
      "metadata": {
        "id": "VmiOHAMXvGeh"
      }
    },
    {
      "cell_type": "code",
      "source": [
        "generos = [\"Drama\", \"Comedia\", \"Acción\", \"Sci-Fi\", \"Documental\", \"Terror\", \"Romance\"]\n",
        "\n",
        "# Géneros del medio (los 3 del centro)\n",
        "generos_medio = generos[2:5]  # [\"Acción\", \"Sci-Fi\", \"Documental\"]\n",
        "\n",
        "# Tres primeros géneros\n",
        "primeros = generos[:3]\n",
        "\n",
        "# Géneros en orden inverso\n",
        "inverso = generos[::-1]\n",
        "\n",
        "print(generos_medio, primeros, inverso)"
      ],
      "metadata": {
        "colab": {
          "base_uri": "https://localhost:8080/"
        },
        "id": "mpVL0jGivB3c",
        "outputId": "ccaf0730-cb5e-465c-c09e-8173cdf74800"
      },
      "execution_count": 2,
      "outputs": [
        {
          "output_type": "stream",
          "name": "stdout",
          "text": [
            "['Acción', 'Sci-Fi', 'Documental'] ['Drama', 'Comedia', 'Acción'] ['Romance', 'Terror', 'Documental', 'Sci-Fi', 'Acción', 'Comedia', 'Drama']\n"
          ]
        }
      ]
    },
    {
      "cell_type": "markdown",
      "source": [
        "3. Puntajes de usuarios (List comprehension)"
      ],
      "metadata": {
        "id": "3kQCDfWTv2Hg"
      }
    },
    {
      "cell_type": "code",
      "source": [
        "ratings = [4.5, 3.0, 5.0, 2.5, 4.0, 1.5]\n",
        "\n",
        "# Mayores a 3.5\n",
        "mayores = [r for r in ratings if r > 3.5]\n",
        "\n",
        "# Convertidos a escala 100\n",
        "escala_100 = [r * 20 for r in ratings]\n",
        "\n",
        "# Clasificación\n",
        "clasificacion = [\"Alta\" if r > 4 else \"Media\" if r >= 3 else \"Baja\" for r in ratings]\n",
        "\n",
        "print(mayores, escala_100, clasificacion)"
      ],
      "metadata": {
        "colab": {
          "base_uri": "https://localhost:8080/"
        },
        "id": "iH2VDsRQv4Jc",
        "outputId": "75ebe2e9-7e71-40f0-b70a-2e51d3b0a893"
      },
      "execution_count": 3,
      "outputs": [
        {
          "output_type": "stream",
          "name": "stdout",
          "text": [
            "[4.5, 5.0, 4.0] [90.0, 60.0, 100.0, 50.0, 80.0, 30.0] ['Alta', 'Media', 'Alta', 'Baja', 'Media', 'Baja']\n"
          ]
        }
      ]
    },
    {
      "cell_type": "markdown",
      "source": [
        "4. Historial de visualización (Diccionarios)"
      ],
      "metadata": {
        "id": "bFS1F7-mv7xj"
      }
    },
    {
      "cell_type": "code",
      "source": [
        "historial = {\n",
        "  \"Breaking Python\": 3,\n",
        "  \"Machine Love\": 5,\n",
        "  \"Data Science 101\": 2\n",
        "}\n",
        "\n",
        "# Aumentar visualización\n",
        "historial[\"Data Science 101\"] += 1\n",
        "\n",
        "# Añadir nueva serie\n",
        "historial[\"AI Rebellion\"] = 1\n",
        "\n",
        "# Eliminar \"Machine Love\"\n",
        "del historial[\"Machine Love\"]\n",
        "\n",
        "# Series con más de 2 vistas\n",
        "mas_de_dos = [serie for serie, vistas in historial.items() if vistas > 2]\n",
        "\n",
        "print(historial)\n",
        "print(mas_de_dos)"
      ],
      "metadata": {
        "colab": {
          "base_uri": "https://localhost:8080/"
        },
        "id": "IaRiMvdvv_yr",
        "outputId": "9c7a60f7-e661-4185-c8e2-01425298750c"
      },
      "execution_count": 4,
      "outputs": [
        {
          "output_type": "stream",
          "name": "stdout",
          "text": [
            "{'Breaking Python': 3, 'Data Science 101': 3, 'AI Rebellion': 1}\n",
            "['Breaking Python', 'Data Science 101']\n"
          ]
        }
      ]
    },
    {
      "cell_type": "markdown",
      "source": [
        "5. Usuarios únicos por serie (Sets)"
      ],
      "metadata": {
        "id": "zdZDxbYPwFmQ"
      }
    },
    {
      "cell_type": "code",
      "source": [
        "usuarios_serie_A = {\"ana\", \"luis\", \"pedro\", \"maria\"}\n",
        "usuarios_serie_B = {\"maria\", \"pedro\", \"carla\", \"lucas\"}\n",
        "\n",
        "# Ambos\n",
        "ambos = usuarios_serie_A & usuarios_serie_B\n",
        "\n",
        "# Solo serie A\n",
        "solo_A = usuarios_serie_A - usuarios_serie_B\n",
        "\n",
        "# Al menos una\n",
        "al_menos_una = usuarios_serie_A | usuarios_serie_B\n",
        "\n",
        "print(ambos, solo_A, al_menos_una)"
      ],
      "metadata": {
        "colab": {
          "base_uri": "https://localhost:8080/"
        },
        "id": "jnWQBA_KwG-F",
        "outputId": "9e4c3429-8ab2-4be8-aadb-1fe8c6cdce85"
      },
      "execution_count": 5,
      "outputs": [
        {
          "output_type": "stream",
          "name": "stdout",
          "text": [
            "{'maria', 'pedro'} {'ana', 'luis'} {'ana', 'maria', 'pedro', 'carla', 'lucas', 'luis'}\n"
          ]
        }
      ]
    },
    {
      "cell_type": "markdown",
      "source": [
        "6. Recomendaciones compartidas (Diccionario + Sets)"
      ],
      "metadata": {
        "id": "3-BYmhuYwLyg"
      }
    },
    {
      "cell_type": "code",
      "source": [
        "recomendaciones = {\n",
        "  \"ana\": {\"Machine Love\", \"AI Rebellion\"},\n",
        "  \"luis\": {\"AI Rebellion\", \"Debug Wars\"},\n",
        "  \"pedro\": {\"Debug Wars\", \"Machine Love\"}\n",
        "}\n",
        "\n",
        "# Recomendadas a todos\n",
        "todas = set.intersection(*recomendaciones.values())\n",
        "\n",
        "# A al menos dos personas\n",
        "from collections import Counter\n",
        "\n",
        "todas_series = []\n",
        "for s in recomendaciones.values():\n",
        "    todas_series.extend(s)\n",
        "\n",
        "conteo = Counter(todas_series)\n",
        "al_menos_dos = {serie for serie, cant in conteo.items() if cant >= 2}\n",
        "solo_una = {serie for serie, cant in conteo.items() if cant == 1}\n",
        "\n",
        "print(todas, al_menos_dos, solo_una)"
      ],
      "metadata": {
        "colab": {
          "base_uri": "https://localhost:8080/"
        },
        "id": "EzFnUD-jwN3A",
        "outputId": "6eb36516-d0ad-4809-b1e3-9094e22290c0"
      },
      "execution_count": 6,
      "outputs": [
        {
          "output_type": "stream",
          "name": "stdout",
          "text": [
            "set() {'Debug Wars', 'AI Rebellion', 'Machine Love'} set()\n"
          ]
        }
      ]
    },
    {
      "cell_type": "markdown",
      "source": [
        "7. Transformar ratings (Tuplas + dict comprehension)"
      ],
      "metadata": {
        "id": "tc7T7VWkwSoQ"
      }
    },
    {
      "cell_type": "code",
      "source": [
        "puntuaciones = [(\"Breaking Python\", 4.0), (\"AI Rebellion\", 5.0), (\"Debug Wars\", 2.0)]\n",
        "\n",
        "calificaciones = {\n",
        "    serie: \"Excelente\" if r >= 4.5 else \"Buena\" if r >= 3 else \"Regular\"\n",
        "    for serie, r in puntuaciones\n",
        "}\n",
        "\n",
        "print(calificaciones)"
      ],
      "metadata": {
        "colab": {
          "base_uri": "https://localhost:8080/"
        },
        "id": "wD9lp53gwUUH",
        "outputId": "dc695fe7-360a-4c2f-aa61-28d8738fc66f"
      },
      "execution_count": 7,
      "outputs": [
        {
          "output_type": "stream",
          "name": "stdout",
          "text": [
            "{'Breaking Python': 'Buena', 'AI Rebellion': 'Excelente', 'Debug Wars': 'Regular'}\n"
          ]
        }
      ]
    },
    {
      "cell_type": "markdown",
      "source": [
        "8. Usuarios y géneros favoritos (Dict + slicing)"
      ],
      "metadata": {
        "id": "QYQjfEMqwWrZ"
      }
    },
    {
      "cell_type": "code",
      "source": [
        "gustos = {\n",
        "  \"ana\": [\"Sci-Fi\", \"Drama\", \"Documental\"],\n",
        "  \"luis\": [\"Comedia\", \"Acción\", \"Sci-Fi\"],\n",
        "  \"pedro\": [\"Drama\", \"Sci-Fi\", \"Romance\"]\n",
        "}\n",
        "\n",
        "# Primer género favorito de cada usuario\n",
        "primeros = [lista[0] for lista in gustos.values()]\n",
        "\n",
        "# Todos los géneros sin repeticiones\n",
        "todos_generos = set(g for lista in gustos.values() for g in lista)\n",
        "\n",
        "# Género más común en primera posición\n",
        "from collections import Counter\n",
        "conteo_primero = Counter(primeros)\n",
        "mas_comun = conteo_primero.most_common(1)[0][0]\n",
        "\n",
        "print(primeros, todos_generos, mas_comun)"
      ],
      "metadata": {
        "colab": {
          "base_uri": "https://localhost:8080/"
        },
        "id": "kM33vw1SwYnp",
        "outputId": "8f9e7f69-dbf2-4717-c620-8a0160e4d682"
      },
      "execution_count": 8,
      "outputs": [
        {
          "output_type": "stream",
          "name": "stdout",
          "text": [
            "['Sci-Fi', 'Comedia', 'Drama'] {'Sci-Fi', 'Romance', 'Documental', 'Comedia', 'Acción', 'Drama'} Sci-Fi\n"
          ]
        }
      ]
    },
    {
      "cell_type": "markdown",
      "source": [
        "9. Resumen de votos por serie (Dict + listas)"
      ],
      "metadata": {
        "id": "-3WzbLD2wbNT"
      }
    },
    {
      "cell_type": "code",
      "source": [
        "votos = [(\"Breaking Python\", 5), (\"AI Rebellion\", 4), (\"Breaking Python\", 4), (\"Debug Wars\", 3), (\"AI Rebellion\", 5)]\n",
        "\n",
        "from collections import defaultdict\n",
        "\n",
        "resumen = defaultdict(list)\n",
        "for serie, punto in votos:\n",
        "    resumen[serie].append(punto)\n",
        "\n",
        "# Promedio\n",
        "promedios = {serie: sum(puntos)/len(puntos) for serie, puntos in resumen.items()}\n",
        "\n",
        "print(dict(resumen))\n",
        "print(promedios)"
      ],
      "metadata": {
        "colab": {
          "base_uri": "https://localhost:8080/"
        },
        "id": "7Cbj2yBUwc7e",
        "outputId": "b0514204-8eb2-4b4d-a345-c76de80dad3b"
      },
      "execution_count": 9,
      "outputs": [
        {
          "output_type": "stream",
          "name": "stdout",
          "text": [
            "{'Breaking Python': [5, 4], 'AI Rebellion': [4, 5], 'Debug Wars': [3]}\n",
            "{'Breaking Python': 4.5, 'AI Rebellion': 4.5, 'Debug Wars': 3.0}\n"
          ]
        }
      ]
    },
    {
      "cell_type": "markdown",
      "source": [
        "10. Motor básico de recomendaciones (Función)"
      ],
      "metadata": {
        "id": "dYx5IhVKwf6O"
      }
    },
    {
      "cell_type": "code",
      "source": [
        "# Definimos la función\n",
        "def recomendar_series(usuario, historial, catalogo):\n",
        "    vistas = set(historial.get(usuario, {}).keys())  # series que ya vio el usuario\n",
        "    return [serie for serie in catalogo if serie not in vistas]\n",
        "\n",
        "# Datos de ejemplo\n",
        "catalogo = [\"AI Rebellion\", \"Debug Wars\", \"Machine Love\", \"Data Science 101\"]\n",
        "\n",
        "historial = {\n",
        "    \"ana\": {\"AI Rebellion\": 3, \"Debug Wars\": 1},\n",
        "    \"luis\": {\"Machine Love\": 5},\n",
        "    \"pedro\": {\"Data Science 101\": 2, \"Machine Love\": 4}\n",
        "}\n",
        "\n",
        "# Pedir nombre del usuario\n",
        "usuario = input(\"Ingrese su nombre de usuario: \").lower()\n",
        "\n",
        "# Llamamos la función y mostramos resultado\n",
        "sugerencias = recomendar_series(usuario, historial, catalogo)\n",
        "\n",
        "print(\"Series que te recomendamos:\")\n",
        "print(sugerencias)\n",
        "\n",
        "\n"
      ],
      "metadata": {
        "colab": {
          "base_uri": "https://localhost:8080/"
        },
        "id": "UT0WXaJQwhkk",
        "outputId": "c7dc6e31-7a7e-497b-f44e-e44f7708bcc6"
      },
      "execution_count": 14,
      "outputs": [
        {
          "output_type": "stream",
          "name": "stdout",
          "text": [
            "Ingrese su nombre de usuario: Diego\n",
            "Series que te recomendamos:\n",
            "['AI Rebellion', 'Debug Wars', 'Machine Love', 'Data Science 101']\n"
          ]
        }
      ]
    }
  ]
}