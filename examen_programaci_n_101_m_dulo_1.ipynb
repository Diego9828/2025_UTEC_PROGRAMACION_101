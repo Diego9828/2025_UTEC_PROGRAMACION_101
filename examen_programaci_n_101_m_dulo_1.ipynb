{
  "nbformat": 4,
  "nbformat_minor": 0,
  "metadata": {
    "colab": {
      "provenance": [],
      "include_colab_link": true
    },
    "kernelspec": {
      "name": "python3",
      "display_name": "Python 3"
    },
    "language_info": {
      "name": "python"
    }
  },
  "cells": [
    {
      "cell_type": "markdown",
      "metadata": {
        "id": "view-in-github",
        "colab_type": "text"
      },
      "source": [
        "<a href=\"https://colab.research.google.com/github/Diego9828/2025_UTEC_PROGRAMACION_101/blob/main/examen_programaci_n_101_m_dulo_1.ipynb\" target=\"_parent\"><img src=\"https://colab.research.google.com/assets/colab-badge.svg\" alt=\"Open In Colab\"/></a>"
      ]
    },
    {
      "cell_type": "markdown",
      "source": [
        "<img src=\"https://posgrado.utec.edu.pe/sites/default/files/2023-08/Testimonial-home-2.jpg\" alt=\"HTML5 Icon\" width=\"900\" height=\"250\" >\n"
      ],
      "metadata": {
        "id": "ub41hbIV6UQ6"
      }
    },
    {
      "cell_type": "markdown",
      "source": [
        "#**Examen Programación 101 – Módulo 1**\n"
      ],
      "metadata": {
        "id": "zpZSxKDI51_7"
      }
    },
    {
      "cell_type": "markdown",
      "source": [
        "**Contexto**\n",
        "\n",
        "Estás colaborando en el diseño de un sistema básico de autenticación y validación de datos para una empresa tecnológica en expansión. El sistema debe realizar verificaciones fundamentales sobre usuarios, contraseñas, códigos de acceso e identificadores, utilizando únicamente estructuras condicionales y operaciones básicas, dado que el prototipo está pensado para funcionar en dispositivos con capacidad de cómputo muy limitada.\n",
        "\n",
        "Cada pregunta del examen representa uno de los desafíos que debes resolver en este sistema: desde validar un código, clasificar niveles de acceso, hasta verificar si una entrada cumple con múltiples criterios simultáneamente."
      ],
      "metadata": {
        "id": "qphDGB6eAe-K"
      }
    },
    {
      "cell_type": "markdown",
      "source": [
        "\n",
        "\n",
        "**Nombre y Apellido:**\n",
        "\n",
        "---"
      ],
      "metadata": {
        "id": "_MYFZY5D97r5"
      }
    },
    {
      "cell_type": "markdown",
      "source": [
        "Duración: 45 minutos\n",
        "\n",
        "**Instrucciones**\n",
        "\n",
        "1. No está permitido el uso de funciones (def), bucles (for, while)\n",
        "\n",
        "2. Puedes utilizar:\n",
        "\n",
        "  * Asignación de variables\n",
        "  * Operadores aritméticos y lógicos\n",
        "  * Condicionales (if, elif, else)\n",
        "  * Funciones input() y print()\n",
        "\n",
        "3. Se evaluará no solo la respuesta correcta, sino también la claridad, buenas prácticas, uso correcto de tipos de datos y estructura lógica.\n",
        "\n",
        "---"
      ],
      "metadata": {
        "id": "VInsS6-u7MUH"
      }
    },
    {
      "cell_type": "markdown",
      "source": [
        "**Pregunta 1: Validación de Usuario**\n"
      ],
      "metadata": {
        "id": "xVGPY6H68IO_"
      }
    },
    {
      "cell_type": "markdown",
      "source": [
        "Escribe un programa que valide un usuario según estas reglas:\n",
        "\n",
        "* El usuario debe tener exactamente 5 caracteres.\n",
        "* El primer carácter debe ser mayúscula.\n",
        "* El último carácter debe ser un número.\n",
        "\n",
        "Imprime \"Usuario válido\" o \"Usuario inválido\" según corresponda."
      ],
      "metadata": {
        "id": "2mSAVboy8Q6m"
      }
    },
    {
      "cell_type": "code",
      "execution_count": null,
      "metadata": {
        "id": "mOSniL8V5jR4",
        "colab": {
          "base_uri": "https://localhost:8080/"
        },
        "outputId": "59002a64-722c-4b07-a6b2-3431f91fc3e8"
      },
      "outputs": [
        {
          "output_type": "stream",
          "name": "stdout",
          "text": [
            "Ingrese el nombre de usuario: diego\n",
            "Usuario inválido\n"
          ]
        }
      ],
      "source": [
        "usuario = input(\"Ingrese el nombre de usuario: \")\n",
        "\n",
        "# Validamos que tenga exactamente 5 caracteres\n",
        "if len(usuario) == 5:\n",
        "    # Validamos que el primer carácter sea una letra mayúscula\n",
        "    if usuario[0].isupper():\n",
        "        # Validamos que el último carácter sea un número\n",
        "        if usuario[-1].isdigit():\n",
        "            print(\"Usuario válido\")\n",
        "        else:\n",
        "            print(\"Usuario inválido\")\n",
        "    else:\n",
        "        print(\"Usuario inválido\")\n",
        "else:\n",
        "    print(\"Usuario inválido\")\n"
      ]
    },
    {
      "cell_type": "markdown",
      "source": [
        "**Pregunta 2: Nivel de Seguridad Numérico**\n",
        "\n",
        "Pide tres dígitos separados al usuario usando input(). Luego:\n",
        "\n",
        "* Imprime \"ALTO\" si los tres dígitos son diferentes.\n",
        "* Imprime \"MEDIO\" si solo dos son iguales.\n",
        "* Imprime \"BAJO\" si los tres son iguales."
      ],
      "metadata": {
        "id": "ZI1HrCRe8uU6"
      }
    },
    {
      "cell_type": "code",
      "source": [
        "# Your code starts here\n",
        "\n",
        "digito1 = input(\"Ingresa el primer dígito: \")\n",
        "digito2 = input(\"Ingresa el segundo dígito: \")\n",
        "digito3 = input(\"Ingresa el tercer dígito: \")\n",
        "\n",
        "if digito1 == digito2 == digito3:\n",
        "    print(\"BAJO\")\n",
        "elif digito1 != digito2 and digito1 != digito3 and digito2 != digito3:\n",
        "    print(\"ALTO\")\n",
        "else:\n",
        "    print(\"MEDIO\")\n",
        "\n",
        "# Your code ends here\n"
      ],
      "metadata": {
        "id": "hEUnfNCK88lF",
        "colab": {
          "base_uri": "https://localhost:8080/"
        },
        "outputId": "74ecdbc7-d731-4cd8-b8f4-55b0f95668e7"
      },
      "execution_count": null,
      "outputs": [
        {
          "output_type": "stream",
          "name": "stdout",
          "text": [
            "Ingresa el primer dígito: 1\n",
            "Ingresa el segundo dígito: 2\n",
            "Ingresa el tercer dígito: 3\n",
            "ALTO\n"
          ]
        }
      ]
    },
    {
      "cell_type": "markdown",
      "source": [
        "**Pregunta 3: Código de Acceso**\n",
        "\n",
        "Pide al usuario ingresar un número entero de tres dígitos.\n",
        "Verifica si la suma de sus tres dígitos es exactamente 10:\n",
        "\n",
        "* Si lo es, imprime \"Código válido\".\n",
        "* Si no, imprime \"Código inválido\"."
      ],
      "metadata": {
        "id": "DaAUaft_9DMe"
      }
    },
    {
      "cell_type": "code",
      "source": [
        "# Your code starts here\n",
        "\n",
        "numero = input(\"Ingresa un número entero de tres dígitos: \")\n",
        "\n",
        "if len(numero) == 3 and numero.isdigit():\n",
        "    suma = int(numero[0]) + int(numero[1]) + int(numero[2])\n",
        "    if suma == 10:\n",
        "        print(\"Código válido\")\n",
        "    else:\n",
        "        print(\"Código inválido\")\n",
        "else:\n",
        "    print(\"Código inválido\")\n",
        "\n",
        "# Your code ends here\n"
      ],
      "metadata": {
        "id": "Xa15jei89HaU",
        "colab": {
          "base_uri": "https://localhost:8080/"
        },
        "outputId": "bcaae01d-035c-4a73-a5a2-d462268d1618"
      },
      "execution_count": null,
      "outputs": [
        {
          "output_type": "stream",
          "name": "stdout",
          "text": [
            "Ingresa un número entero de tres dígitos: 4\n",
            "Código inválido\n"
          ]
        }
      ]
    },
    {
      "cell_type": "markdown",
      "source": [
        "**Pregunta 4: Identificador de carácter**\n",
        "\n",
        "Pide al usuario un solo carácter y determina:\n",
        "\n",
        "* Si es vocal minúscula → \"Vocal minúscula\"\n",
        "* Si es vocal mayúscula → \"Vocal MAYÚSCULA\"\n",
        "* Si es número → \"Número\"\n",
        "* En cualquier otro caso → \"Símbolo especial\""
      ],
      "metadata": {
        "id": "zHCprzaP9fpB"
      }
    },
    {
      "cell_type": "code",
      "source": [
        "# Your code starts here\n",
        "\n",
        "caracter = input(\"Ingresa un solo carácter: \")\n",
        "\n",
        "if caracter in \"aeiou\":\n",
        "    print(\"Vocal minúscula\")\n",
        "elif caracter in \"AEIOU\":\n",
        "    print(\"Vocal MAYÚSCULA\")\n",
        "elif caracter.isdigit():\n",
        "    print(\"Número\")\n",
        "else:\n",
        "    print(\"Símbolo especial\")\n",
        "\n",
        "# Your code ends here\n"
      ],
      "metadata": {
        "id": "OvCpLVUT92uZ",
        "colab": {
          "base_uri": "https://localhost:8080/"
        },
        "outputId": "5dc2a788-ce96-45b1-c3bc-167345c4d43f"
      },
      "execution_count": null,
      "outputs": [
        {
          "output_type": "stream",
          "name": "stdout",
          "text": [
            "Ingresa un solo carácter: 4\n",
            "Número\n"
          ]
        }
      ]
    },
    {
      "cell_type": "markdown",
      "source": [
        "**Pregunta 5: Verificación cruzada de identidad**\n",
        "\n",
        "Un sistema de validación recibe los siguientes tres datos como entrada:\n",
        "\n",
        "\n",
        "1. Un código de 6 caracteres (ej. \"A1b2C3\")\n",
        "2. Un número de 3 cifras (ej. 528)\n",
        "3. Una letra (ej. \"b\")\n",
        "\n",
        "El programa debe:\n",
        "\n",
        "* Verificar si:\n",
        "\n",
        "  1. El primer carácter del código es una letra mayúscula,\n",
        "  2. El último carácter del código es un número,\n",
        "  3. La suma de los tres dígitos del número es par, y\n",
        "  4. La letra ingresada se encuentra dentro del código sin distinguir mayúsculas/minúsculas.\n",
        "\n",
        "* Si todas las condiciones se cumplen, imprimir: \"Identidad verificada\"\n",
        "\n",
        "* Si alguna no se cumple, imprimir: \"Acceso denegado\""
      ],
      "metadata": {
        "id": "FJyAxh0I-0N8"
      }
    },
    {
      "cell_type": "code",
      "source": [
        "# Your code starts here\n",
        "\n",
        "codigo = input(\"Ingresa un código de 6 caracteres: \")\n",
        "numero = input(\"Ingresa un número de 3 cifras: \")\n",
        "letra = input(\"Ingresa una letra: \")\n",
        "\n",
        "# Condición 1: El primer carácter del código es letra mayúscula\n",
        "cond1 = codigo[0].isupper()\n",
        "\n",
        "# Condición 2: El último carácter del código es un número\n",
        "cond2 = codigo[-1].isdigit()\n",
        "\n",
        "# Condición 3: La suma de los tres dígitos del número es par\n",
        "if len(numero) == 3 and numero.isdigit():\n",
        "    suma = int(numero[0]) + int(numero[1]) + int(numero[2])\n",
        "    cond3 = suma % 2 == 0\n",
        "else:\n",
        "    cond3 = False\n",
        "\n",
        "# Condición 4: La letra está en el código (sin distinguir mayúscula/minúscula)\n",
        "cond4 = letra.lower() in codigo.lower()\n",
        "\n",
        "# Verificación final\n",
        "if cond1 and cond2 and cond3 and cond4:\n",
        "    print(\"Identidad verificada\")\n",
        "else:\n",
        "    print(\"Acceso denegado\")\n",
        "\n",
        "# Your code ends here\n",
        "\n"
      ],
      "metadata": {
        "id": "Z16sSPRc_TDH",
        "colab": {
          "base_uri": "https://localhost:8080/"
        },
        "outputId": "72aec8c0-7043-4a0b-dcaa-51680f94c73f"
      },
      "execution_count": null,
      "outputs": [
        {
          "output_type": "stream",
          "name": "stdout",
          "text": [
            "Ingresa un código de 6 caracteres: 57807314\n",
            "Ingresa un número de 3 cifras: 123\n",
            "Ingresa una letra: k\n",
            "Acceso denegado\n"
          ]
        }
      ]
    },
    {
      "cell_type": "markdown",
      "source": [
        "---\n",
        "\n",
        "### Gracias por completar este examen!\n",
        "\n",
        "---\n"
      ],
      "metadata": {
        "id": "vWNdqa91-NiX"
      }
    }
  ]
}